{
 "cells": [
  {
   "cell_type": "markdown",
   "metadata": {},
   "source": [
    "# Part B - Preprocess Dataset\n",
    "\n",
    "### Objective: \n",
    "    1) Preprocess the generated training data for feature extraction and training\n",
    "    \n",
    "### Approach:\n",
    "    1) Crop the exact region of the text\n",
    "    2) Since, features extracted will be from RESNET50 architecture training on Imagenet dataset\n",
    "       - Why? \n",
    "           - For most of the problems RESNET can be used as general purpose features \n",
    "           - The fonts have different spatial characterstics so RESNET shold be able to capture it\n",
    "       - Resize image to 224 x 224"
   ]
  },
  {
   "cell_type": "code",
   "execution_count": 1,
   "metadata": {},
   "outputs": [],
   "source": [
    "import os\n",
    "import cv2\n",
    "import pandas as pd\n",
    "\n",
    "import matplotlib.pyplot as plt\n",
    "\n",
    "from sklearn.model_selection import train_test_split"
   ]
  },
  {
   "cell_type": "code",
   "execution_count": 2,
   "metadata": {},
   "outputs": [],
   "source": [
    "params_all_images = []\n",
    "\n",
    "for folder_name in ['generated_text_images', 'generated_blur', 'generated_rotated', 'generated_watermark']:\n",
    "    folder_path = 'data/{}'.format(folder_name)\n",
    "\n",
    "    for file_path in os.listdir(folder_path):\n",
    "        params_all_images.append(['{}/{}'.format(folder_path, file_path)] + file_path.split('.png')[0].split('_'))"
   ]
  },
  {
   "cell_type": "code",
   "execution_count": 3,
   "metadata": {},
   "outputs": [],
   "source": [
    "df_raw = pd.DataFrame(params_all_images)\n",
    "df_raw = df_raw.rename(columns={\n",
    "    0: 'file_path',\n",
    "    1: 'board_id',\n",
    "    2: 'text',\n",
    "    3: 'font_name',\n",
    "    4: 'text_variation_id',\n",
    "    5: 'agumentation_type',\n",
    "    6: 'agumentation_variation_id'\n",
    "})\n",
    "df_raw['label'] = df_raw['font_name'].apply(lambda x: x.split('-')[0])"
   ]
  },
  {
   "cell_type": "code",
   "execution_count": 4,
   "metadata": {},
   "outputs": [
    {
     "name": "stdout",
     "output_type": "stream",
     "text": [
      "Total entries in the raw data: 22320\n"
     ]
    },
    {
     "data": {
      "text/html": [
       "<div>\n",
       "<style>\n",
       "    .dataframe thead tr:only-child th {\n",
       "        text-align: right;\n",
       "    }\n",
       "\n",
       "    .dataframe thead th {\n",
       "        text-align: left;\n",
       "    }\n",
       "\n",
       "    .dataframe tbody tr th {\n",
       "        vertical-align: top;\n",
       "    }\n",
       "</style>\n",
       "<table border=\"1\" class=\"dataframe\">\n",
       "  <thead>\n",
       "    <tr style=\"text-align: right;\">\n",
       "      <th></th>\n",
       "      <th>file_path</th>\n",
       "      <th>board_id</th>\n",
       "      <th>text</th>\n",
       "      <th>font_name</th>\n",
       "      <th>text_variation_id</th>\n",
       "      <th>agumentation_type</th>\n",
       "      <th>agumentation_variation_id</th>\n",
       "      <th>label</th>\n",
       "    </tr>\n",
       "  </thead>\n",
       "  <tbody>\n",
       "    <tr>\n",
       "      <th>0</th>\n",
       "      <td>data/generated_text_images/2_Co-Founder-&amp;-CEO_...</td>\n",
       "      <td>2</td>\n",
       "      <td>Co-Founder-&amp;-CEO</td>\n",
       "      <td>Ubuntu-Medium</td>\n",
       "      <td>2</td>\n",
       "      <td>None</td>\n",
       "      <td>None</td>\n",
       "      <td>Ubuntu</td>\n",
       "    </tr>\n",
       "    <tr>\n",
       "      <th>1</th>\n",
       "      <td>data/generated_text_images/1_HELLO,-WORLD!_Osw...</td>\n",
       "      <td>1</td>\n",
       "      <td>HELLO,-WORLD!</td>\n",
       "      <td>Oswald-Light</td>\n",
       "      <td>2</td>\n",
       "      <td>None</td>\n",
       "      <td>None</td>\n",
       "      <td>Oswald</td>\n",
       "    </tr>\n",
       "    <tr>\n",
       "      <th>2</th>\n",
       "      <td>data/generated_text_images/7_HELLO,-WORLD!_Rob...</td>\n",
       "      <td>7</td>\n",
       "      <td>HELLO,-WORLD!</td>\n",
       "      <td>Roboto-BlackItalic</td>\n",
       "      <td>1</td>\n",
       "      <td>None</td>\n",
       "      <td>None</td>\n",
       "      <td>Roboto</td>\n",
       "    </tr>\n",
       "    <tr>\n",
       "      <th>3</th>\n",
       "      <td>data/generated_text_images/1_Hello,-World!_PTS...</td>\n",
       "      <td>1</td>\n",
       "      <td>Hello,-World!</td>\n",
       "      <td>PTSerif-Regular</td>\n",
       "      <td>0</td>\n",
       "      <td>None</td>\n",
       "      <td>None</td>\n",
       "      <td>PTSerif</td>\n",
       "    </tr>\n",
       "    <tr>\n",
       "      <th>4</th>\n",
       "      <td>data/generated_text_images/3_Design-Lead_Arimo...</td>\n",
       "      <td>3</td>\n",
       "      <td>Design-Lead</td>\n",
       "      <td>Arimo-VariableFont-wght</td>\n",
       "      <td>0</td>\n",
       "      <td>None</td>\n",
       "      <td>None</td>\n",
       "      <td>Arimo</td>\n",
       "    </tr>\n",
       "  </tbody>\n",
       "</table>\n",
       "</div>"
      ],
      "text/plain": [
       "                                           file_path board_id  \\\n",
       "0  data/generated_text_images/2_Co-Founder-&-CEO_...        2   \n",
       "1  data/generated_text_images/1_HELLO,-WORLD!_Osw...        1   \n",
       "2  data/generated_text_images/7_HELLO,-WORLD!_Rob...        7   \n",
       "3  data/generated_text_images/1_Hello,-World!_PTS...        1   \n",
       "4  data/generated_text_images/3_Design-Lead_Arimo...        3   \n",
       "\n",
       "               text                font_name text_variation_id  \\\n",
       "0  Co-Founder-&-CEO            Ubuntu-Medium                 2   \n",
       "1     HELLO,-WORLD!             Oswald-Light                 2   \n",
       "2     HELLO,-WORLD!       Roboto-BlackItalic                 1   \n",
       "3     Hello,-World!          PTSerif-Regular                 0   \n",
       "4       Design-Lead  Arimo-VariableFont-wght                 0   \n",
       "\n",
       "  agumentation_type agumentation_variation_id    label  \n",
       "0              None                      None   Ubuntu  \n",
       "1              None                      None   Oswald  \n",
       "2              None                      None   Roboto  \n",
       "3              None                      None  PTSerif  \n",
       "4              None                      None    Arimo  "
      ]
     },
     "execution_count": 4,
     "metadata": {},
     "output_type": "execute_result"
    }
   ],
   "source": [
    "print (\"Total entries in the raw data:\", len(df_raw))\n",
    "df_raw.head()"
   ]
  },
  {
   "cell_type": "code",
   "execution_count": 5,
   "metadata": {},
   "outputs": [
    {
     "data": {
      "text/plain": [
       "Hello,-World!       7440\n",
       "HELLO,-WORLD!       7440\n",
       "Design-Lead         3720\n",
       "Co-Founder-&-CEO    3720\n",
       "Name: text, dtype: int64"
      ]
     },
     "execution_count": 5,
     "metadata": {},
     "output_type": "execute_result"
    }
   ],
   "source": [
    "df_raw.text.value_counts()"
   ]
  },
  {
   "cell_type": "code",
   "execution_count": 6,
   "metadata": {},
   "outputs": [
    {
     "data": {
      "text/plain": [
       "Roboto           4320\n",
       "Arimo            3600\n",
       "OpenSans         3600\n",
       "Ubuntu           2880\n",
       "Oswald           2520\n",
       "DancingScript    1800\n",
       "NotoSans         1440\n",
       "PTSerif          1440\n",
       "PatuaOne          360\n",
       "FredokaOne        360\n",
       "Name: label, dtype: int64"
      ]
     },
     "execution_count": 6,
     "metadata": {},
     "output_type": "execute_result"
    }
   ],
   "source": [
    "df_raw.label.value_counts()"
   ]
  },
  {
   "cell_type": "code",
   "execution_count": 7,
   "metadata": {},
   "outputs": [],
   "source": [
    "def get_text_coordinates(im):\n",
    "    \"\"\"\n",
    "    \n",
    "    Get top left and bottom right co-ordinated of the text region in the image\n",
    "    param im: image loaded with cv2\n",
    "    return required co-ordiates\n",
    "    \"\"\"\n",
    "    \n",
    "    # Draw a rectangle to separate any character at the edge of the image\n",
    "    im = cv2.rectangle(im, (0, 0), (im.shape[1], im.shape[0]), (255, 255, 255), 2)\n",
    "    \n",
    "    # Convert to grayscale\n",
    "    imgray = cv2.cvtColor(im,cv2.COLOR_BGR2GRAY)\n",
    "\n",
    "    # Thresholding (all white region is 255, so kept the threshold at 240)\n",
    "    ret,thresh = cv2.threshold(imgray, 240, 255, 0)\n",
    "    \n",
    "    # Contour detection\n",
    "    image, contours, hierarchy = cv2.findContours(thresh, cv2.RETR_TREE, cv2.CHAIN_APPROX_SIMPLE)\n",
    "\n",
    "    # Get the required coordinated of the full text region\n",
    "    top_left_x = []\n",
    "    top_left_y = []\n",
    "    for c in contours:\n",
    "        x, y, w, h = cv2.boundingRect(c)\n",
    "        \n",
    "        if not (w > (im.shape[1] - 5) and h > (im.shape[0] - 5)): # To avoid the full image contour\n",
    "            top_left_x.append(x)\n",
    "            top_left_x.append(x + w)\n",
    "            top_left_y.append(y)\n",
    "            top_left_y.append(y + h)\n",
    "\n",
    "    x1 = min(top_left_x)\n",
    "    y1 = min(top_left_y)\n",
    "    x2 = max(top_left_x)\n",
    "    y2 = max(top_left_y)\n",
    "    \n",
    "    return x1, y1, x2, y2"
   ]
  },
  {
   "cell_type": "code",
   "execution_count": 8,
   "metadata": {},
   "outputs": [
    {
     "name": "stdout",
     "output_type": "stream",
     "text": [
      "Original Image:\n"
     ]
    },
    {
     "data": {
      "image/png": "[encoded data removed]",
      "text/plain": [
       "<matplotlib.figure.Figure at 0x7f8b38a04828>"
      ]
     },
     "metadata": {
      "needs_background": "light"
     },
     "output_type": "display_data"
    },
    {
     "name": "stdout",
     "output_type": "stream",
     "text": [
      "Cropped Image:\n"
     ]
    },
    {
     "data": {
      "image/png": "[encoded data removed]",
      "text/plain": [
       "<matplotlib.figure.Figure at 0x7f8b3696beb8>"
      ]
     },
     "metadata": {
      "needs_background": "light"
     },
     "output_type": "display_data"
    },
    {
     "name": "stdout",
     "output_type": "stream",
     "text": [
      "Resized Image: (224 x 224 For RESNET feature extraction)\n"
     ]
    },
    {
     "data": {
      "image/png": "[encoded data removed]",
      "text/plain": [
       "<matplotlib.figure.Figure at 0x7f8b368ada20>"
      ]
     },
     "metadata": {
      "needs_background": "light"
     },
     "output_type": "display_data"
    }
   ],
   "source": [
    "def test_pipeline():\n",
    "    im = cv2.imread('test_image.png')\n",
    "    x1, y1, x2, y2 = get_text_coordinates(im)\n",
    "    \n",
    "    print (\"Original Image:\")\n",
    "    imgplot = plt.imshow(cv2.rectangle(im.copy(), (x1, y1), (x2, y2), (0,255,0), 2))\n",
    "    plt.show()\n",
    "    \n",
    "    cropped_im = im[y1:y2, x1:x2]\n",
    "    \n",
    "    print (\"Cropped Image:\")\n",
    "    imgplot = plt.imshow(cropped_im)\n",
    "    plt.show()\n",
    "\n",
    "    resized_cropped_im = cv2.resize(cropped_im, (224, 224), interpolation=cv2.INTER_AREA)\n",
    "    \n",
    "    print (\"Resized Image: (224 x 224 For RESNET feature extraction)\")\n",
    "    imgplot = plt.imshow(resized_cropped_im)\n",
    "    plt.show()\n",
    "\n",
    "test_pipeline()"
   ]
  },
  {
   "cell_type": "code",
   "execution_count": 9,
   "metadata": {},
   "outputs": [
    {
     "name": "stdout",
     "output_type": "stream",
     "text": [
      "CPU times: user 49.5 s, sys: 2.94 s, total: 52.5 s\n",
      "Wall time: 47.9 s\n"
     ]
    }
   ],
   "source": [
    "%%time\n",
    "\n",
    "# Preprocess and save all the images generated with text and transformed\n",
    "\n",
    "os.makedirs('data/preprocessed_data',  exist_ok=True)\n",
    "file_paths_preprocessed = []\n",
    "\n",
    "for file_path in list(df_raw['file_path']):\n",
    "    im = cv2.imread(file_path)\n",
    "    x1, y1, x2, y2 = get_text_coordinates(im)\n",
    "        \n",
    "    cropped_im = im[y1:y2, x1:x2]\n",
    "    resized_cropped_im = cv2.resize(cropped_im, (224, 224), interpolation=cv2.INTER_AREA)\n",
    "    \n",
    "    save_filepath = 'data/preprocessed_data/{}'.format(file_path.split('/')[-1])\n",
    "    file_paths_preprocessed.append(save_filepath)\n",
    "    cv2.imwrite(save_filepath, resized_cropped_im)"
   ]
  },
  {
   "cell_type": "code",
   "execution_count": 10,
   "metadata": {},
   "outputs": [],
   "source": [
    "df_raw['file_path_preprocessed'] = file_paths_preprocessed\n",
    "df_raw.to_csv(\"raw_file.csv\", index=False)"
   ]
  },
  {
   "cell_type": "code",
   "execution_count": 11,
   "metadata": {},
   "outputs": [],
   "source": [
    "# Train and test file generated before performing any experiment (0.3 test split)\n",
    "\n",
    "df_train, df_test = train_test_split(df_raw, stratify=list(df_raw['label']), test_size=0.3, random_state=42)\n",
    "df_train.to_csv(\"train_file.csv\", index=False)\n",
    "df_test.to_csv(\"test_file.csv\", index=False)"
   ]
  },
  {
   "cell_type": "code",
   "execution_count": null,
   "metadata": {},
   "outputs": [],
   "source": []
  }
 ],
 "metadata": {
  "kernelspec": {
   "display_name": "Python 3",
   "language": "python",
   "name": "python3"
  },
  "language_info": {
   "codemirror_mode": {
    "name": "ipython",
    "version": 3
   },
   "file_extension": ".py",
   "mimetype": "text/x-python",
   "name": "python",
   "nbconvert_exporter": "python",
   "pygments_lexer": "ipython3",
   "version": "3.6.7"
  }
 },
 "nbformat": 4,
 "nbformat_minor": 2
}
