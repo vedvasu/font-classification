{
 "cells": [
  {
   "cell_type": "markdown",
   "metadata": {},
   "source": [
    "# Part A - Generate Dataset\n",
    "\n",
    "### Objective:\n",
    "    1) Build dataset for training a font classification model for following fonts (classes)-         \n",
    "        - Oswald\n",
    "        - Roboto\n",
    "        - OpenSans\n",
    "        - Ubuntu\n",
    "        - PTSerif\n",
    "        - DancingScript\n",
    "        - FredokaOne\n",
    "        - Arimo\n",
    "        - NotoSans\n",
    "        - PatuaOne\n",
    "    \n",
    "### Characterstics of the dataset:\n",
    "    1) All image have the term \"Hello World\"\n",
    "    2) All images are black text on white background\n",
    "    \n",
    "### Approach:\n",
    "    1) Generate empty boards - Understand characterstics from sample images\n",
    "        - Range of image height (ranges from 111 to 567)\n",
    "        - Range of image weight (ranges from 91 to 193)\n",
    "       \n",
    "    2) Add text to empty boards at random locations with random scale and opacity\n",
    "    \n",
    "    3) Image agumentation (To generate larger training data for better generalisation)\n",
    "        - Image Rotation (ranges from -30 to 30 degrees)\n",
    "        - Image Blur (Kernel size from (2 to 8)\n",
    "        - Adding watermark\n",
    "        \n",
    "        Note: These are intutively selected based on what users can share as specimen\n",
    "    \n",
    "### Generated dataset size:\n",
    "    1) Total random boards = 10\n",
    "    2) Total fonts (including all fonts types from family) = 42 \n",
    "    3) Total random texts additions = 3 per boards\n",
    "    4) Total agumentated images = 3 per original generated text image\n",
    "    \n",
    "    Final images: 10 * 42 * 3 = 1260\n",
    "    Final augumented images = 1260 * 3 = 3870"
   ]
  },
  {
   "cell_type": "code",
   "execution_count": 1,
   "metadata": {},
   "outputs": [],
   "source": [
    "import os\n",
    "import cv2\n",
    "import random\n",
    "\n",
    "import numpy as np\n",
    "import pandas as pd\n",
    "\n",
    "import matplotlib.pyplot as plt\n",
    "from PIL import Image, ImageDraw, ImageFont"
   ]
  },
  {
   "cell_type": "markdown",
   "metadata": {},
   "source": [
    "## Step 1 - Estimate image characterstics from sample"
   ]
  },
  {
   "cell_type": "code",
   "execution_count": 2,
   "metadata": {},
   "outputs": [],
   "source": [
    "loaded_sample_images = []\n",
    "for im_path in os.listdir('sample_images'):\n",
    "    loaded_sample_images.append(cv2.imread('sample_images/{}'.format(im_path)).shape)"
   ]
  },
  {
   "cell_type": "code",
   "execution_count": 3,
   "metadata": {},
   "outputs": [
    {
     "data": {
      "text/html": [
       "<div>\n",
       "<style>\n",
       "    .dataframe thead tr:only-child th {\n",
       "        text-align: right;\n",
       "    }\n",
       "\n",
       "    .dataframe thead th {\n",
       "        text-align: left;\n",
       "    }\n",
       "\n",
       "    .dataframe tbody tr th {\n",
       "        vertical-align: top;\n",
       "    }\n",
       "</style>\n",
       "<table border=\"1\" class=\"dataframe\">\n",
       "  <thead>\n",
       "    <tr style=\"text-align: right;\">\n",
       "      <th></th>\n",
       "      <th>Height of sample</th>\n",
       "      <th>Width of sample</th>\n",
       "      <th>Number of channels</th>\n",
       "      <th>ratio</th>\n",
       "    </tr>\n",
       "  </thead>\n",
       "  <tbody>\n",
       "    <tr>\n",
       "      <th>0</th>\n",
       "      <td>106</td>\n",
       "      <td>273</td>\n",
       "      <td>3</td>\n",
       "      <td>2.575472</td>\n",
       "    </tr>\n",
       "    <tr>\n",
       "      <th>1</th>\n",
       "      <td>91</td>\n",
       "      <td>252</td>\n",
       "      <td>3</td>\n",
       "      <td>2.769231</td>\n",
       "    </tr>\n",
       "    <tr>\n",
       "      <th>2</th>\n",
       "      <td>121</td>\n",
       "      <td>237</td>\n",
       "      <td>3</td>\n",
       "      <td>1.958678</td>\n",
       "    </tr>\n",
       "    <tr>\n",
       "      <th>3</th>\n",
       "      <td>93</td>\n",
       "      <td>229</td>\n",
       "      <td>3</td>\n",
       "      <td>2.462366</td>\n",
       "    </tr>\n",
       "    <tr>\n",
       "      <th>4</th>\n",
       "      <td>125</td>\n",
       "      <td>247</td>\n",
       "      <td>3</td>\n",
       "      <td>1.976000</td>\n",
       "    </tr>\n",
       "    <tr>\n",
       "      <th>5</th>\n",
       "      <td>112</td>\n",
       "      <td>243</td>\n",
       "      <td>3</td>\n",
       "      <td>2.169643</td>\n",
       "    </tr>\n",
       "    <tr>\n",
       "      <th>6</th>\n",
       "      <td>94</td>\n",
       "      <td>330</td>\n",
       "      <td>3</td>\n",
       "      <td>3.510638</td>\n",
       "    </tr>\n",
       "    <tr>\n",
       "      <th>7</th>\n",
       "      <td>132</td>\n",
       "      <td>567</td>\n",
       "      <td>3</td>\n",
       "      <td>4.295455</td>\n",
       "    </tr>\n",
       "    <tr>\n",
       "      <th>8</th>\n",
       "      <td>182</td>\n",
       "      <td>321</td>\n",
       "      <td>3</td>\n",
       "      <td>1.763736</td>\n",
       "    </tr>\n",
       "    <tr>\n",
       "      <th>9</th>\n",
       "      <td>193</td>\n",
       "      <td>450</td>\n",
       "      <td>3</td>\n",
       "      <td>2.331606</td>\n",
       "    </tr>\n",
       "  </tbody>\n",
       "</table>\n",
       "</div>"
      ],
      "text/plain": [
       "   Height of sample  Width of sample  Number of channels     ratio\n",
       "0               106              273                   3  2.575472\n",
       "1                91              252                   3  2.769231\n",
       "2               121              237                   3  1.958678\n",
       "3                93              229                   3  2.462366\n",
       "4               125              247                   3  1.976000\n",
       "5               112              243                   3  2.169643\n",
       "6                94              330                   3  3.510638\n",
       "7               132              567                   3  4.295455\n",
       "8               182              321                   3  1.763736\n",
       "9               193              450                   3  2.331606"
      ]
     },
     "execution_count": 3,
     "metadata": {},
     "output_type": "execute_result"
    }
   ],
   "source": [
    "loaded_sample_images = pd.DataFrame(loaded_sample_images).rename(columns={\n",
    "    0: 'Height of sample',\n",
    "    1: 'Width of sample',\n",
    "    2: 'Number of channels'\n",
    "})\n",
    "loaded_sample_images['ratio'] = loaded_sample_images['Width of sample']/ loaded_sample_images['Height of sample']\n",
    "loaded_sample_images"
   ]
  },
  {
   "cell_type": "code",
   "execution_count": 4,
   "metadata": {},
   "outputs": [
    {
     "data": {
      "text/html": [
       "<div>\n",
       "<style>\n",
       "    .dataframe thead tr:only-child th {\n",
       "        text-align: right;\n",
       "    }\n",
       "\n",
       "    .dataframe thead th {\n",
       "        text-align: left;\n",
       "    }\n",
       "\n",
       "    .dataframe tbody tr th {\n",
       "        vertical-align: top;\n",
       "    }\n",
       "</style>\n",
       "<table border=\"1\" class=\"dataframe\">\n",
       "  <thead>\n",
       "    <tr style=\"text-align: right;\">\n",
       "      <th></th>\n",
       "      <th>count</th>\n",
       "      <th>mean</th>\n",
       "      <th>std</th>\n",
       "      <th>min</th>\n",
       "      <th>25%</th>\n",
       "      <th>50%</th>\n",
       "      <th>75%</th>\n",
       "      <th>max</th>\n",
       "    </tr>\n",
       "  </thead>\n",
       "  <tbody>\n",
       "    <tr>\n",
       "      <th>Height of sample</th>\n",
       "      <td>10.0</td>\n",
       "      <td>124.900000</td>\n",
       "      <td>35.914868</td>\n",
       "      <td>91.000000</td>\n",
       "      <td>97.000000</td>\n",
       "      <td>116.500000</td>\n",
       "      <td>130.250000</td>\n",
       "      <td>193.000000</td>\n",
       "    </tr>\n",
       "    <tr>\n",
       "      <th>Width of sample</th>\n",
       "      <td>10.0</td>\n",
       "      <td>314.900000</td>\n",
       "      <td>111.060994</td>\n",
       "      <td>229.000000</td>\n",
       "      <td>244.000000</td>\n",
       "      <td>262.500000</td>\n",
       "      <td>327.750000</td>\n",
       "      <td>567.000000</td>\n",
       "    </tr>\n",
       "    <tr>\n",
       "      <th>Number of channels</th>\n",
       "      <td>10.0</td>\n",
       "      <td>3.000000</td>\n",
       "      <td>0.000000</td>\n",
       "      <td>3.000000</td>\n",
       "      <td>3.000000</td>\n",
       "      <td>3.000000</td>\n",
       "      <td>3.000000</td>\n",
       "      <td>3.000000</td>\n",
       "    </tr>\n",
       "    <tr>\n",
       "      <th>ratio</th>\n",
       "      <td>10.0</td>\n",
       "      <td>2.581282</td>\n",
       "      <td>0.782145</td>\n",
       "      <td>1.763736</td>\n",
       "      <td>2.024411</td>\n",
       "      <td>2.396986</td>\n",
       "      <td>2.720791</td>\n",
       "      <td>4.295455</td>\n",
       "    </tr>\n",
       "  </tbody>\n",
       "</table>\n",
       "</div>"
      ],
      "text/plain": [
       "                    count        mean         std         min         25%  \\\n",
       "Height of sample     10.0  124.900000   35.914868   91.000000   97.000000   \n",
       "Width of sample      10.0  314.900000  111.060994  229.000000  244.000000   \n",
       "Number of channels   10.0    3.000000    0.000000    3.000000    3.000000   \n",
       "ratio                10.0    2.581282    0.782145    1.763736    2.024411   \n",
       "\n",
       "                           50%         75%         max  \n",
       "Height of sample    116.500000  130.250000  193.000000  \n",
       "Width of sample     262.500000  327.750000  567.000000  \n",
       "Number of channels    3.000000    3.000000    3.000000  \n",
       "ratio                 2.396986    2.720791    4.295455  "
      ]
     },
     "execution_count": 4,
     "metadata": {},
     "output_type": "execute_result"
    }
   ],
   "source": [
    "loaded_sample_images.describe().transpose()"
   ]
  },
  {
   "cell_type": "markdown",
   "metadata": {},
   "source": [
    "## Step 2 - Generate images with random text characterstics"
   ]
  },
  {
   "cell_type": "code",
   "execution_count": 5,
   "metadata": {},
   "outputs": [],
   "source": [
    "def get_random_white_image():\n",
    "    \"\"\"\n",
    "    \n",
    "    Get image with white background\n",
    "     - Randomly generated\n",
    "     - Height and weight estimated from sample images\n",
    "    \"\"\"\n",
    "    \n",
    "    image_height = random.randrange(\n",
    "        loaded_sample_images['Height of sample'].min(), \n",
    "        loaded_sample_images['Height of sample'].max()\n",
    "    )\n",
    "    \n",
    "    hw_ration = random.uniform(\n",
    "        loaded_sample_images['ratio'].min(), \n",
    "        loaded_sample_images['ratio'].max()\n",
    "    )\n",
    "    image_width = int(image_height * hw_ration)\n",
    "\n",
    "    img = np.ones((image_height, image_width, 3), np.uint8)\n",
    "    img.fill(255)\n",
    "    \n",
    "    return img, image_height, image_width\n",
    "\n",
    "\n",
    "def add_text_to_image(pil_img, path_to_font, text=\"Hello World\", opacity=None):\n",
    "    \"\"\"\n",
    "    \n",
    "    Add text to the given image.\n",
    "     - The top left coordinates are randomly projected on initial 40% of height and 20% of weight\n",
    "     - Opacity is randomly selected from (150 to 255)\n",
    "     - Text scale is randomly selected from (30 to 50)\n",
    "    param pil_img: Image vector loaded in PIL\n",
    "    param path_to_font: Path to the font to be used for drawing\n",
    "    param text: Text to be used for drawing (default: \"Hello World\")\n",
    "    param opacity: Opacity of the text (Default: If None, randomly selected)\n",
    "    \n",
    "    returns output image with text drawn\n",
    "    \"\"\"\n",
    "    \n",
    "    # Estimate parameters\n",
    "    coordinate_upper_left_height = int(random.uniform(0, 0.4) * pil_img.size[1])\n",
    "    coordinate_upper_left_width = int(random.uniform(0, 0.2) * pil_img.size[0])\n",
    "    \n",
    "    text_scale = random.randrange(30, 50)\n",
    "    \n",
    "    if opacity is None:\n",
    "        opacity = random.randrange(150, 255)\n",
    "    \n",
    "    # Draw on the image using PIL\n",
    "    text_image = Image.new(\"RGBA\", pil_img.size, (255, 255, 255, 0))\n",
    "    font = ImageFont.truetype(path_to_font, text_scale)\n",
    "\n",
    "    draw = ImageDraw.Draw(text_image)    \n",
    "    draw.text(\n",
    "        (coordinate_upper_left_width,coordinate_upper_left_height), \n",
    "        text, \n",
    "        font=font, \n",
    "        fill=(0, 0, 0, opacity)\n",
    "    )\n",
    "    \n",
    "    out = Image.alpha_composite(pil_img, text_image)\n",
    "    \n",
    "    return out\n",
    "\n",
    "\n",
    "def rotate_image(mat, angle):\n",
    "    \"\"\"\n",
    "    \n",
    "    Rotates an image (angle in degrees) and expands image to avoid cropping\n",
    "    Used code from: https://stackoverflow.com/questions/43892506/opencv-python-rotate-image-without-cropping-sides/47248339\n",
    "    \"\"\"\n",
    "\n",
    "    height, width = mat.shape[:2]\n",
    "    \n",
    "    # getRotationMatrix2D needs coordinates in reverse order (width, height) compared to shape\n",
    "    image_center = (width/2, height/2)\n",
    "\n",
    "    rotation_mat = cv2.getRotationMatrix2D(image_center, angle, 1.)\n",
    "\n",
    "    # rotation calculates the cos and sin, taking absolutes of those.\n",
    "    abs_cos = abs(rotation_mat[0,0]) \n",
    "    abs_sin = abs(rotation_mat[0,1])\n",
    "\n",
    "    # find the new width and height bounds\n",
    "    bound_w = int(height * abs_sin + width * abs_cos)\n",
    "    bound_h = int(height * abs_cos + width * abs_sin)\n",
    "\n",
    "    # subtract old image center (bringing image back to origo) and adding the new image center coordinates\n",
    "    rotation_mat[0, 2] += bound_w/2 - image_center[0]\n",
    "    rotation_mat[1, 2] += bound_h/2 - image_center[1]\n",
    "\n",
    "    # rotate image with the new bounds and translated rotation matrix\n",
    "    rotated_mat = cv2.warpAffine(mat, rotation_mat, (bound_w, bound_h),\n",
    "                                 borderMode=cv2.BORDER_CONSTANT,\n",
    "                                 borderValue=(255,255,255))\n",
    "    return rotated_mat"
   ]
  },
  {
   "cell_type": "code",
   "execution_count": 6,
   "metadata": {},
   "outputs": [
    {
     "name": "stdout",
     "output_type": "stream",
     "text": [
      "Raw Image Board:\n"
     ]
    },
    {
     "data": {
      "image/png": "[encoded data removed]",
      "text/plain": [
       "<matplotlib.figure.Figure at 0x7f72c24c5588>"
      ]
     },
     "metadata": {
      "needs_background": "light"
     },
     "output_type": "display_data"
    },
    {
     "name": "stdout",
     "output_type": "stream",
     "text": [
      "Added Text:\n"
     ]
    },
    {
     "data": {
      "image/png": "[encoded data removed]",
      "text/plain": [
       "<matplotlib.figure.Figure at 0x7f72c0480278>"
      ]
     },
     "metadata": {
      "needs_background": "light"
     },
     "output_type": "display_data"
    },
    {
     "name": "stdout",
     "output_type": "stream",
     "text": [
      "Added Rotation:\n"
     ]
    },
    {
     "data": {
      "image/png": "[encoded data removed]",
      "text/plain": [
       "<matplotlib.figure.Figure at 0x7f72c0417208>"
      ]
     },
     "metadata": {
      "needs_background": "light"
     },
     "output_type": "display_data"
    },
    {
     "name": "stdout",
     "output_type": "stream",
     "text": [
      "Added Blur:\n"
     ]
    },
    {
     "data": {
      "image/png": "[encoded data removed]",
      "text/plain": [
       "<matplotlib.figure.Figure at 0x7f72c0457c88>"
      ]
     },
     "metadata": {
      "needs_background": "light"
     },
     "output_type": "display_data"
    },
    {
     "name": "stdout",
     "output_type": "stream",
     "text": [
      "Added Watermark:\n"
     ]
    },
    {
     "data": {
      "image/png": "[encoded data removed]",
      "text/plain": [
       "<matplotlib.figure.Figure at 0x7f72c0499208>"
      ]
     },
     "metadata": {
      "needs_background": "light"
     },
     "output_type": "display_data"
    },
    {
     "name": "stdout",
     "output_type": "stream",
     "text": [
      "CPU times: user 947 ms, sys: 371 ms, total: 1.32 s\n",
      "Wall time: 474 ms\n"
     ]
    }
   ],
   "source": [
    "%%time\n",
    "\n",
    "def test_pipeline():\n",
    "    \"\"\"\n",
    "    \n",
    "    Test pipeline to verfiy before generating large number of images\n",
    "    Randomly generated image and its transformations are displayed on the notebook\n",
    "    \"\"\"\n",
    "    \n",
    "    print (\"Raw Image Board:\")\n",
    "    \n",
    "    raw_image, image_height, image_width = get_random_white_image()\n",
    "    \n",
    "    imgplot = plt.imshow(raw_image)\n",
    "    plt.show()\n",
    "\n",
    "    print (\"Added Text:\")\n",
    "    \n",
    "    cv2.imwrite('test_image.png', raw_image)\n",
    "    base_pil_image = Image.open('test_image.png').convert(\"RGBA\")\n",
    "    path_to_font = \"fonts/Oswald-Bold.ttf\"\n",
    "    text_added_image = add_text_to_image(base_pil_image, path_to_font, text=\"Hello World\")\n",
    "    text_added_image.save('test_image.png') \n",
    "    \n",
    "    imgplot = plt.imshow(text_added_image)\n",
    "    plt.show()\n",
    "\n",
    "    text_added_image = cv2.imread('test_image.png'.format(1))\n",
    "\n",
    "    # Image Augumentation: Rotation\n",
    "    print (\"Added Rotation:\")\n",
    "    angle = random.randrange(-45, 45)\n",
    "    rotated_text_added_image = rotate_image(text_added_image, angle)\n",
    "\n",
    "    imgplot = plt.imshow(rotated_text_added_image)\n",
    "    plt.show()\n",
    "\n",
    "    # Image Augumentation: Blur\n",
    "    print (\"Added Blur:\")\n",
    "    kernel_size = random.randrange(2, 8)\n",
    "    blur = cv2.blur(text_added_image, (kernel_size, kernel_size))\n",
    "\n",
    "    imgplot = plt.imshow(blur)\n",
    "    plt.show()\n",
    "\n",
    "    # Image Augumentation: Add Watermark\n",
    "    print (\"Added Watermark:\")\n",
    "    base_pil_image = Image.open('test_image.png'.format(1)).convert(\"RGBA\")\n",
    "    path_to_font = \"Pillow/Tests/fonts/FreeMono.ttf\"\n",
    "    watermark_added_image = add_text_to_image(base_pil_image, path_to_font, text=\"Watermark\", opacity=25)\n",
    "\n",
    "    imgplot = plt.imshow(watermark_added_image)\n",
    "    plt.show()\n",
    "    \n",
    "test_pipeline()"
   ]
  },
  {
   "cell_type": "code",
   "execution_count": 7,
   "metadata": {},
   "outputs": [],
   "source": [
    "def pipeline_generate_images_with_text(text='Hello World', number_of_boards=10, number_of_iterations=3):\n",
    "    \"\"\"\n",
    "    \n",
    "    Generated images with given text of random characterstics\n",
    "    param text: Text to draw on the image\n",
    "    param number_of_boards: number of random boards to generate\n",
    "    param number_of_iterations: number of iterations to draw with random characterstics\n",
    "    return: Save raw boards and text images inside data directory\n",
    "    \"\"\"\n",
    "    \n",
    "    # Make directory if not existing already\n",
    "    os.makedirs('data/generated_boards',  exist_ok=True)\n",
    "    os.makedirs('data/generated_text_images',  exist_ok=True)\n",
    "\n",
    "    print (\"Generating images with different text properties for '{}'...\".format(text))\n",
    "    for i in range(number_of_boards):\n",
    "        \n",
    "        # Generate random white board\n",
    "        raw_image, image_height, image_width = get_random_white_image()\n",
    "        board_path = 'data/generated_boards/{}_{}.png'.format(i, text.replace(' ', '-'))         \n",
    "        cv2.imwrite(board_path, raw_image)\n",
    "\n",
    "        base_pil_image = Image.open(board_path).convert(\"RGBA\")\n",
    "\n",
    "        # Iterate to draw for all fonts\n",
    "        for font in os.listdir('fonts'):\n",
    "            path_to_font = 'fonts/{}'.format(font)\n",
    "\n",
    "            # Generate random iterations for each font and each raw board\n",
    "            for iteration in range(number_of_iterations):\n",
    "                text_added_image = add_text_to_image(\n",
    "                    base_pil_image, \n",
    "                    path_to_font, \n",
    "                    text=text\n",
    "                )\n",
    "                save_filepath = 'data/generated_text_images/{}_{}_{}.png'.format(\n",
    "                    board_path.split('/')[-1].split('.png')[0], \n",
    "                    font.replace('_', '-').split('.ttf')[0],\n",
    "                    iteration\n",
    "                )\n",
    "                text_added_image.save(save_filepath)"
   ]
  },
  {
   "cell_type": "code",
   "execution_count": 8,
   "metadata": {},
   "outputs": [
    {
     "name": "stdout",
     "output_type": "stream",
     "text": [
      "Generating images with different text properties for 'Hello World'...\n",
      "CPU times: user 5.52 s, sys: 77 ms, total: 5.59 s\n",
      "Wall time: 5.6 s\n"
     ]
    }
   ],
   "source": [
    "%%time\n",
    "\n",
    "# Generate text images with different characterstics for \"Hello World\"\n",
    "pipeline_generate_images_with_text('Hello World', number_of_boards=10)"
   ]
  },
  {
   "cell_type": "code",
   "execution_count": 9,
   "metadata": {},
   "outputs": [
    {
     "name": "stdout",
     "output_type": "stream",
     "text": [
      "Generating images with different text properties for 'Co-Founder & CEO'...\n",
      "Generating images with different text properties for 'Design Lead'...\n",
      "CPU times: user 5.18 s, sys: 101 ms, total: 5.28 s\n",
      "Wall time: 5.28 s\n"
     ]
    }
   ],
   "source": [
    "%%time\n",
    "\n",
    "# Generate text images with different characterstics for different text\n",
    "# Purpose is to test for generalisation and have more training data (if required)\n",
    "\n",
    "pipeline_generate_images_with_text('Co-Founder & CEO', number_of_boards=5)\n",
    "pipeline_generate_images_with_text('Design Lead', number_of_boards=5)"
   ]
  },
  {
   "cell_type": "markdown",
   "metadata": {},
   "source": [
    "## Step 3 - Generate transformed images from originally generated text images"
   ]
  },
  {
   "cell_type": "code",
   "execution_count": 10,
   "metadata": {},
   "outputs": [],
   "source": [
    "def pipeline_generate_augumented_images(path_to_text_images='data/generated_text_images'):\n",
    "    \"\"\"\n",
    "    \n",
    "    For each of the raw text image generated add transformed images\n",
    "    param path_to_text_images: path where all text images are stored\n",
    "    \"\"\"\n",
    "    \n",
    "    # Make directory if not existing already\n",
    "    os.makedirs('data/generated_rotated',  exist_ok=True)\n",
    "    os.makedirs('data/generated_blur',  exist_ok=True)\n",
    "    os.makedirs('data/generated_watermark',  exist_ok=True)\n",
    "\n",
    "    for img_name in os.listdir(path_to_text_images):\n",
    "        text_added_image = cv2.imread('{}/{}'.format(path_to_text_images, img_name))\n",
    "        text_added_image_pil = Image.open('{}/{}'.format(path_to_text_images, img_name)).convert(\"RGBA\")\n",
    "\n",
    "        # Add rotated image\n",
    "        for iteration in range(1):\n",
    "            angle = random.randrange(-45, 45)\n",
    "            rotated_text_added_image = rotate_image(text_added_image, angle)\n",
    "\n",
    "            save_filepath = 'data/generated_rotated/{}_rotated_{}.png'.format(img_name.split('.png')[0], iteration)\n",
    "            cv2.imwrite(save_filepath, rotated_text_added_image)\n",
    "\n",
    "        # Add blurred image        \n",
    "        for iteration in range(1):\n",
    "            kernel_size = random.randrange(2, 8)\n",
    "            blur = cv2.blur(text_added_image, (kernel_size, kernel_size))\n",
    "\n",
    "            save_filepath = 'data/generated_blur/{}_blur_{}.png'.format(img_name.split('.png')[0], iteration)\n",
    "            cv2.imwrite(save_filepath, blur)\n",
    "\n",
    "        # Add watermark to the image (User may share a watermarked sample to copy font)\n",
    "        for iteration in range(1):\n",
    "            watermark_added_image = add_text_to_image(\n",
    "                text_added_image_pil, \n",
    "                path_to_font=\"Pillow/Tests/fonts/FreeMono.ttf\", \n",
    "                text=\"Watermark\", \n",
    "                opacity=25)\n",
    "\n",
    "            save_filepath = 'data/generated_watermark/{}_watermark_{}.png'.format(img_name.split('.png')[0], iteration)\n",
    "            watermark_added_image.save(save_filepath) "
   ]
  },
  {
   "cell_type": "code",
   "execution_count": 11,
   "metadata": {},
   "outputs": [
    {
     "name": "stdout",
     "output_type": "stream",
     "text": [
      "CPU times: user 29 s, sys: 1.92 s, total: 31 s\n",
      "Wall time: 28.6 s\n"
     ]
    }
   ],
   "source": [
    "%%time\n",
    "\n",
    "# Generated image transformations (In case more training data is required)\n",
    "\n",
    "pipeline_generate_augumented_images()"
   ]
  }
 ],
 "metadata": {
  "kernelspec": {
   "display_name": "Python 3",
   "language": "python",
   "name": "python3"
  },
  "language_info": {
   "codemirror_mode": {
    "name": "ipython",
    "version": 3
   },
   "file_extension": ".py",
   "mimetype": "text/x-python",
   "name": "python",
   "nbconvert_exporter": "python",
   "pygments_lexer": "ipython3",
   "version": "3.6.7"
  }
 },
 "nbformat": 4,
 "nbformat_minor": 4
}
